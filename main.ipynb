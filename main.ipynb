{
 "metadata": {
  "language_info": {
   "codemirror_mode": {
    "name": "ipython",
    "version": 3
   },
   "file_extension": ".py",
   "mimetype": "text/x-python",
   "name": "python",
   "nbconvert_exporter": "python",
   "pygments_lexer": "ipython3",
   "version": 3
  },
  "orig_nbformat": 2,
  "kernelspec": {
   "name": "python_defaultSpec_1595673407724",
   "display_name": "Python 3.7.3 32-bit"
  }
 },
 "nbformat": 4,
 "nbformat_minor": 2,
 "cells": [
  {
   "cell_type": "code",
   "execution_count": 4,
   "metadata": {},
   "outputs": [],
   "source": [
    "import pandas as pd\n",
    "df = pd.read_csv('census.csv')"
   ]
  },
  {
   "cell_type": "code",
   "execution_count": 2,
   "metadata": {},
   "outputs": [
    {
     "output_type": "execute_result",
     "data": {
      "text/plain": "   District code         State name District name  Population    Male  Female  \\\n0              1  JAMMU AND KASHMIR       Kupwara      870354  474190  396164   \n1              2  JAMMU AND KASHMIR        Badgam      753745  398041  355704   \n2              3  JAMMU AND KASHMIR   Leh(Ladakh)      133487   78971   54516   \n3              4  JAMMU AND KASHMIR        Kargil      140802   77785   63017   \n4              5  JAMMU AND KASHMIR         Punch      476835  251899  224936   \n\n   Literate  Male_Literate  Female_Literate    SC  ...  \\\n0    439654         282823           156831  1048  ...   \n1    335649         207741           127908   368  ...   \n2     93770          62834            30936   488  ...   \n3     86236          56301            29935    18  ...   \n4    261724         163333            98391   556  ...   \n\n   Power_Parity_Rs_90000_150000  Power_Parity_Rs_45000_150000  \\\n0                            94                           588   \n1                           126                           562   \n2                            46                           122   \n3                            27                           114   \n4                            78                           346   \n\n   Power_Parity_Rs_150000_240000  Power_Parity_Rs_240000_330000  \\\n0                             71                            101   \n1                             72                             89   \n2                             15                             22   \n3                             12                             18   \n4                             35                             50   \n\n   Power_Parity_Rs_150000_330000  Power_Parity_Rs_330000_425000  \\\n0                            172                             74   \n1                            161                             96   \n2                             37                             20   \n3                             30                             19   \n4                             85                             59   \n\n   Power_Parity_Rs_425000_545000  Power_Parity_Rs_330000_545000  \\\n0                             10                             84   \n1                             28                            124   \n2                             14                             34   \n3                              3                             22   \n4                              8                             67   \n\n   Power_Parity_Above_Rs_545000  Total_Power_Parity  \n0                            15                1119  \n1                            18                1066  \n2                            17                 242  \n3                             7                 214  \n4                            12                 629  \n\n[5 rows x 118 columns]",
      "text/html": "<div>\n<style scoped>\n    .dataframe tbody tr th:only-of-type {\n        vertical-align: middle;\n    }\n\n    .dataframe tbody tr th {\n        vertical-align: top;\n    }\n\n    .dataframe thead th {\n        text-align: right;\n    }\n</style>\n<table border=\"1\" class=\"dataframe\">\n  <thead>\n    <tr style=\"text-align: right;\">\n      <th></th>\n      <th>District code</th>\n      <th>State name</th>\n      <th>District name</th>\n      <th>Population</th>\n      <th>Male</th>\n      <th>Female</th>\n      <th>Literate</th>\n      <th>Male_Literate</th>\n      <th>Female_Literate</th>\n      <th>SC</th>\n      <th>...</th>\n      <th>Power_Parity_Rs_90000_150000</th>\n      <th>Power_Parity_Rs_45000_150000</th>\n      <th>Power_Parity_Rs_150000_240000</th>\n      <th>Power_Parity_Rs_240000_330000</th>\n      <th>Power_Parity_Rs_150000_330000</th>\n      <th>Power_Parity_Rs_330000_425000</th>\n      <th>Power_Parity_Rs_425000_545000</th>\n      <th>Power_Parity_Rs_330000_545000</th>\n      <th>Power_Parity_Above_Rs_545000</th>\n      <th>Total_Power_Parity</th>\n    </tr>\n  </thead>\n  <tbody>\n    <tr>\n      <th>0</th>\n      <td>1</td>\n      <td>JAMMU AND KASHMIR</td>\n      <td>Kupwara</td>\n      <td>870354</td>\n      <td>474190</td>\n      <td>396164</td>\n      <td>439654</td>\n      <td>282823</td>\n      <td>156831</td>\n      <td>1048</td>\n      <td>...</td>\n      <td>94</td>\n      <td>588</td>\n      <td>71</td>\n      <td>101</td>\n      <td>172</td>\n      <td>74</td>\n      <td>10</td>\n      <td>84</td>\n      <td>15</td>\n      <td>1119</td>\n    </tr>\n    <tr>\n      <th>1</th>\n      <td>2</td>\n      <td>JAMMU AND KASHMIR</td>\n      <td>Badgam</td>\n      <td>753745</td>\n      <td>398041</td>\n      <td>355704</td>\n      <td>335649</td>\n      <td>207741</td>\n      <td>127908</td>\n      <td>368</td>\n      <td>...</td>\n      <td>126</td>\n      <td>562</td>\n      <td>72</td>\n      <td>89</td>\n      <td>161</td>\n      <td>96</td>\n      <td>28</td>\n      <td>124</td>\n      <td>18</td>\n      <td>1066</td>\n    </tr>\n    <tr>\n      <th>2</th>\n      <td>3</td>\n      <td>JAMMU AND KASHMIR</td>\n      <td>Leh(Ladakh)</td>\n      <td>133487</td>\n      <td>78971</td>\n      <td>54516</td>\n      <td>93770</td>\n      <td>62834</td>\n      <td>30936</td>\n      <td>488</td>\n      <td>...</td>\n      <td>46</td>\n      <td>122</td>\n      <td>15</td>\n      <td>22</td>\n      <td>37</td>\n      <td>20</td>\n      <td>14</td>\n      <td>34</td>\n      <td>17</td>\n      <td>242</td>\n    </tr>\n    <tr>\n      <th>3</th>\n      <td>4</td>\n      <td>JAMMU AND KASHMIR</td>\n      <td>Kargil</td>\n      <td>140802</td>\n      <td>77785</td>\n      <td>63017</td>\n      <td>86236</td>\n      <td>56301</td>\n      <td>29935</td>\n      <td>18</td>\n      <td>...</td>\n      <td>27</td>\n      <td>114</td>\n      <td>12</td>\n      <td>18</td>\n      <td>30</td>\n      <td>19</td>\n      <td>3</td>\n      <td>22</td>\n      <td>7</td>\n      <td>214</td>\n    </tr>\n    <tr>\n      <th>4</th>\n      <td>5</td>\n      <td>JAMMU AND KASHMIR</td>\n      <td>Punch</td>\n      <td>476835</td>\n      <td>251899</td>\n      <td>224936</td>\n      <td>261724</td>\n      <td>163333</td>\n      <td>98391</td>\n      <td>556</td>\n      <td>...</td>\n      <td>78</td>\n      <td>346</td>\n      <td>35</td>\n      <td>50</td>\n      <td>85</td>\n      <td>59</td>\n      <td>8</td>\n      <td>67</td>\n      <td>12</td>\n      <td>629</td>\n    </tr>\n  </tbody>\n</table>\n<p>5 rows × 118 columns</p>\n</div>"
     },
     "metadata": {},
     "execution_count": 2
    }
   ],
   "source": [
    "df.head()"
   ]
  },
  {
   "cell_type": "code",
   "execution_count": 9,
   "metadata": {},
   "outputs": [],
   "source": [
    "pop = df.groupby('State name').Population.sum()"
   ]
  },
  {
   "cell_type": "code",
   "execution_count": 10,
   "metadata": {},
   "outputs": [],
   "source": [
    "pop.to_csv('population.csv')"
   ]
  },
  {
   "cell_type": "code",
   "execution_count": 15,
   "metadata": {},
   "outputs": [],
   "source": [
    "pop.index = pop.index.str.title()"
   ]
  },
  {
   "cell_type": "code",
   "execution_count": 16,
   "metadata": {},
   "outputs": [
    {
     "output_type": "execute_result",
     "data": {
      "text/plain": "State name\nAndaman And Nicobar Islands       380581\nAndhra Pradesh                  84580777\nArunachal Pradesh                1383727\nAssam                           31205576\nBihar                          104099452\nChandigarh                       1055450\nChhattisgarh                    25545198\nDadra And Nagar Haveli            343709\nDaman And Diu                     243247\nGoa                              1458545\nGujarat                         60439692\nHaryana                         25351462\nHimachal Pradesh                 6864602\nJammu And Kashmir               12541302\nJharkhand                       32988134\nKarnataka                       61095297\nKerala                          33406061\nLakshadweep                        64473\nMadhya Pradesh                  72626809\nMaharashtra                    112374333\nManipur                          2855794\nMeghalaya                        2966889\nMizoram                          1097206\nNagaland                         1978502\nNct Of Delhi                    16787941\nOrissa                          41974218\nPondicherry                      1247953\nPunjab                          27743338\nRajasthan                       68548437\nSikkim                            610577\nTamil Nadu                      72147030\nTripura                          3673917\nUttar Pradesh                  199812341\nUttarakhand                     10086292\nWest Bengal                     91276115\nName: Population, dtype: int64"
     },
     "metadata": {},
     "execution_count": 16
    }
   ],
   "source": [
    "pop"
   ]
  },
  {
   "cell_type": "code",
   "execution_count": null,
   "metadata": {},
   "outputs": [],
   "source": []
  }
 ]
}